{
 "cells": [
  {
   "cell_type": "markdown",
   "metadata": {},
   "source": [
    "# To get started look at the Getting Started links in our [wiki](https://github.com/bytebarista/iot_workshop/wiki):\n",
    "\n",
    "\n",
    "### When setup and connected to your device\n",
    "Open your serial terminal and run all the code cells in this notebook there to make it run on the device.\n",
    "\n",
    "#### To copy-paste multiple lines of text to the terminal in one go:\n",
    "You first have to enter \"bulk paste mode\", **ctrl + e**, and from there the method for pasting depends on how you set up the connection.\n",
    "\n",
    "Regardless, when you are done with bulk pasting; finish with **ctrl + d** which will exit and execute the code snippets.\n",
    "\n",
    "#### IMPORTANT: While not in bulk-paste mode **ctrl + d** soft reboots the device!\n",
    "\n",
    "#### IMPORTANT_final_V.02: If any of the cells relying on simply importing src code from our repository can't import the module it probably needs to be copied over to the controller via ampy. This also goes for potential work done in the \"open tasks\" at the end."
   ]
  },
  {
   "cell_type": "markdown",
   "metadata": {},
   "source": [
    "# General-purpose Input/Output ([GPIO](https://en.wikipedia.org/wiki/General-purpose_input/output))\n",
    "\n",
    "### Turn your controller over and on the back you'll find the microcontroller\n",
    "\n",
    "On it there's a tiny green LED. It should be on. Let's turn it off. Also check out\n",
    "the [Pin](https://docs.micropython.org/en/latest/esp32/quickref.html#pins-and-gpio) and gpio classes"
   ]
  },
  {
   "cell_type": "code",
   "execution_count": null,
   "metadata": {},
   "outputs": [],
   "source": [
    "from machine import Pin\n",
    "\n",
    "pin_onboard_led = 19\n",
    "p = Pin(pin_onboard_led, Pin.OUT)\n",
    "p.off()"
   ]
  },
  {
   "cell_type": "markdown",
   "metadata": {},
   "source": [
    "If you wan't to turn it back on just write **p.on()** in the interactive session"
   ]
  },
  {
   "cell_type": "markdown",
   "metadata": {},
   "source": [
    "## Let's specify the Pulse With Modulation ([PWM](https://docs.micropython.org/en/latest/esp32/quickref.html#pwm-pulse-width-modulation)) settings to dim that LED"
   ]
  },
  {
   "cell_type": "code",
   "execution_count": null,
   "metadata": {},
   "outputs": [],
   "source": [
    "from machine import Pin, PWM\n",
    "\n",
    "pwm0 = PWM(Pin(19))       \n",
    "pwm0.freq(100)     \n",
    "pwm0.duty(20)"
   ]
  },
  {
   "attachments": {},
   "cell_type": "markdown",
   "metadata": {},
   "source": [
    "##### Try, for example, changing the frequency to 5\n",
    "You can also try setting the frequency up again, but the duty down to 5.\n",
    "\n",
    "PWM is a technique used to emulate an analog signal, as such:\n",
    "![image.png](https://upload.wikimedia.org/wikipedia/commons/thumb/d/dc/Delta_PWM.svg/1920px-Delta_PWM.svg.png)\n",
    "https://en.wikipedia.org/wiki/Pulse-width_modulation"
   ]
  },
  {
   "cell_type": "markdown",
   "metadata": {},
   "source": [
    "Reset the LED light by running: **pwm0.deinit()**"
   ]
  },
  {
   "cell_type": "markdown",
   "metadata": {},
   "source": [
    "### Turn your controller back over again!\n",
    "\n",
    "Let's try some addressable RGB-LEDs by running a [show](https://github.com/bytebarista/iot_workshop/blob/master/src/led_show.py)!\n",
    "\n",
    "There are four LEDs on the right side of the display, running vertically up from the *LEDS* tag on the controller.\n",
    "\n",
    "The cell below runs for a long time, interrupt it as usual by a quick **ctrl + c** in the interactive session. You'll notice how they get \"stuck in place\" as there is no shutdown signal attached to the *KeyboardInterruptException*."
   ]
  },
  {
   "cell_type": "code",
   "execution_count": null,
   "metadata": {},
   "outputs": [],
   "source": [
    "import led_show\n",
    "\n",
    "led_show.run()"
   ]
  },
  {
   "cell_type": "markdown",
   "metadata": {},
   "source": [
    "If you are curious about the inner workings on these LEDs you can find the datasheet [here](https://cdn-shop.adafruit.com/datasheets/APA102.pdf) and the singal source code [here](https://github.com/bytebarista/iot_workshop/blob/master/src/led_lights.py)"
   ]
  },
  {
   "cell_type": "markdown",
   "metadata": {},
   "source": [
    "### Serial Peripheral Interface ([SPI](https://en.wikipedia.org/wiki/Serial_Peripheral_Interface))\n",
    "\n",
    "For communication between components there are two major protocols worth mentioning: SPI, and [P2C](https://en.wikipedia.org/wiki/I%C2%B2C)\n",
    "\n",
    "The following controller components are communicating over SPI:\n",
    "* The main [display](https://cdn-shop.adafruit.com/datasheets/ILI9341.pdf)\n",
    "* The microSD card reader\n",
    "\n",
    "The following components are communicating over I2C:\n",
    "* [GPIO-extender](https://www.microchip.com/wwwproducts/en/MCP23017)\n",
    "* [BME280](https://www.bosch-sensortec.com/bst/products/all_products/bme280)\n",
    "* [MPU9250](https://www.invensense.com/products/motion-tracking/9-axis/mpu-9250/) 9-axis motion sensor\n",
    "* [display touch driver](https://www.crystalfontz.com/controllers/FocalTech/FT6336G/)"
   ]
  },
  {
   "cell_type": "markdown",
   "metadata": {},
   "source": [
    "Let's instantiate an SPI object\n",
    "\n",
    "[argument explanation](https://docs.micropython.org/en/latest/esp32/quickref.html#hardware-spi-bus)"
   ]
  },
  {
   "cell_type": "code",
   "execution_count": null,
   "metadata": {},
   "outputs": [],
   "source": [
    "from machine import Pin, SPI\n",
    "\n",
    "spi = SPI(2, 40000000, miso=Pin(19), mosi=Pin(23), sck=Pin(18))"
   ]
  },
  {
   "cell_type": "markdown",
   "metadata": {},
   "source": [
    "## Given that you have a microSD card on the controller\n",
    "You can first mount it:\n"
   ]
  },
  {
   "cell_type": "code",
   "execution_count": null,
   "metadata": {},
   "outputs": [],
   "source": [
    "import os\n",
    "from sdcard import SDCard\n",
    "\n",
    "sd = SDCard(spi, cs=Pin(14))\n",
    "\n",
    "os.mount(sd, '/sd')"
   ]
  },
  {
   "cell_type": "markdown",
   "metadata": {},
   "source": [
    "And confirm that it was mounted:\n",
    "\n",
    "(you should find a folder called 'sd' in the output)"
   ]
  },
  {
   "cell_type": "code",
   "execution_count": null,
   "metadata": {},
   "outputs": [],
   "source": [
    "os.listdir('/')"
   ]
  },
  {
   "cell_type": "markdown",
   "metadata": {},
   "source": [
    "Let's create and write to a file on the SD card and read back from it:"
   ]
  },
  {
   "cell_type": "code",
   "execution_count": null,
   "metadata": {},
   "outputs": [],
   "source": [
    "with open('/sd/test.txt', 'w') as f:\n",
    "    f.write(\"Hello World!\")\n",
    "\n",
    "with open('/sd/test.txt', 'r') as f:\n",
    "    print(f.read())"
   ]
  },
  {
   "cell_type": "markdown",
   "metadata": {},
   "source": [
    "## The Display ([official](https://github.com/jeffmer/micropython-ili9341), [loboris](https://github.com/loboris/MicroPython_ESP32_psRAM_LoBo/wiki/display))"
   ]
  },
  {
   "cell_type": "markdown",
   "metadata": {},
   "source": [
    "example 1"
   ]
  },
  {
   "cell_type": "code",
   "execution_count": null,
   "metadata": {},
   "outputs": [],
   "source": [
    "from ili934xnew import ILI9341, color565\n",
    "from machine import SPI, Pin\n",
    "\n",
    "display = ILI9341(spi,\n",
    "    cs=Pin(0),\n",
    "    dc=Pin(15),\n",
    "    rst=Pin(5))\n",
    "display.erase()\n",
    "display.set_pos(0,0)\n",
    "display.width = 240\n",
    "display.height = 320\n",
    "\n",
    "display.fill_rectangle(0, 0, 239, 319, color565(180,114,52))\n",
    "display.fill_rectangle(0, 0, 239, 319, color565(80,184,152))\n",
    "display.fill_rectangle(0, 0, 239, 319, color565(45,114,252))"
   ]
  },
  {
   "cell_type": "markdown",
   "metadata": {},
   "source": [
    "example 2"
   ]
  },
  {
   "cell_type": "code",
   "execution_count": null,
   "metadata": {},
   "outputs": [],
   "source": [
    "import time, random\n",
    "\n",
    "width = 240\n",
    "height = 320\n",
    "\n",
    "screen_x_mid = int(width/2)\n",
    "screen_y_mid = int(height/2)\n",
    "\n",
    "UL_square = [0,0, screen_x_mid,screen_y_mid]\n",
    "UR_square = [screen_x_mid,0, width,screen_y_mid]\n",
    "LR_square = [screen_x_mid,screen_y_mid, width,height]\n",
    "LL_square = [0,screen_y_mid, screen_x_mid,height]\n",
    "\n",
    "squares = [UL_square, UR_square, LR_square, LL_square]\n",
    "\n",
    "while True:\n",
    "    try:\n",
    "        r, g, b = random.randint(40, 225), random.randint(40, 225), random.randint(40, 225)\n",
    "        fillcolor = color565(r, g, b)\n",
    "        x, y, x1, y1 = squares[random.randint(0, 3)]\n",
    "        display.fill_rectangle(x, y, x1, y1, fillcolor)\n",
    "        time.sleep(0.12)\n",
    "    except KeyboardInterrupt:\n",
    "        for s in squares:\n",
    "            x, y, x1, y1 = s\n",
    "            display.fill_rectangle(x, y, x1, y1, color565(40,40,40))\n",
    "        display.fill_rectangle(0, 0, width, height, color565(30,30,40))\n",
    "        display.fill_rectangle(0, 0, width, height, color565(20,30,20))\n",
    "        display.fill_rectangle(0, 0, width, height, color565(20,10,10))\n",
    "        display.fill_rectangle(0, 0, width, height, color565(0,0,0))\n",
    "        break\n",
    "        "
   ]
  },
  {
   "cell_type": "markdown",
   "metadata": {},
   "source": [
    "## The Speaker\n",
    "\n",
    "Makes a quick buzzzzzzz"
   ]
  },
  {
   "cell_type": "code",
   "execution_count": null,
   "metadata": {},
   "outputs": [],
   "source": [
    "from machine import DAC, Pin\n",
    "import math\n",
    "import time\n",
    "\n",
    "sh = Pin(2, Pin.OUT, Pin.PULL_UP)\n",
    "sh.value(1)\n",
    "\n",
    "dac = DAC(Pin(26))\n",
    "\n",
    "# create a buffer containing a sine-wave\n",
    "buf = bytearray(100)\n",
    "for i in range(len(buf)):\n",
    "    buf[i] = 128 + int(127 * math.sin(2 * math.pi * i / len(buf)))\n",
    "\n",
    "bl = len(buf)\n",
    "for i in range(9999999):\n",
    "    dac.write(buf[i % bl])"
   ]
  },
  {
   "cell_type": "markdown",
   "metadata": {},
   "source": [
    "# Larger input-to-display examples"
   ]
  },
  {
   "cell_type": "markdown",
   "metadata": {},
   "source": [
    "### The Sensors [source](https://github.com/bytebarista/iot_workshop/blob/master/src/temp.py)\n",
    "Uses The display to show readings from several of the sensors mounted on the controller."
   ]
  },
  {
   "cell_type": "code",
   "execution_count": null,
   "metadata": {},
   "outputs": [],
   "source": [
    "import temp  # for temperature, not \"temp file\" O:)\n",
    "\n",
    "temp.run()"
   ]
  },
  {
   "cell_type": "markdown",
   "metadata": {},
   "source": [
    "### The Games \n",
    "Pac-main [source](https://github.com/bytebarista/iot_workshop/blob/master/src/pac.py)\n",
    "Shows the responsivness of the pad-input-to-display-update when it's configured with area buffer."
   ]
  },
  {
   "cell_type": "code",
   "execution_count": null,
   "metadata": {},
   "outputs": [],
   "source": [
    "import pac\n",
    "\n",
    "pac.main()"
   ]
  },
  {
   "cell_type": "markdown",
   "metadata": {},
   "source": [
    "Tetrix [source](https://github.com/bytebarista/iot_workshop/blob/master/src/tetrix.py)\n",
    "Builds on pac-main to include the buttons and a more complete gaming experience."
   ]
  },
  {
   "cell_type": "code",
   "execution_count": null,
   "metadata": {},
   "outputs": [],
   "source": [
    "import tetrix\n",
    "\n",
    "tetrix.run()"
   ]
  },
  {
   "cell_type": "markdown",
   "metadata": {},
   "source": [
    "# Open task suggestions for you\n",
    "\n",
    "* **The thumbslide** has many a quirk, and is not exemplified anywhere in this notebook. It has a dynamic range of \"at rest\" values for both x and y, which is not necessarily the same ranges. [ready-made thumbslide source](https://github.com/bytebarista/iot_workshop/blob/master/src/thumbslide.py)\n",
    "  * You could make code to determine the state of the thumbslide to either be moved or not.\n",
    "  * And/or you could calculate the angle it is held at *given* that it is moved.\n",
    "  * You can switch out the check for \"PAD_DOWN_PRESSED\" in the tetrix game with an angle check for the thumbslide.\n",
    "  * Or, switch out the whole pad control for pac-main with the thumbslide.\n",
    "* **The Speaker** can do a little bit more than just buzzzz uncomfortably.\n",
    "  * The boot sequence could make a \"boot complete\" audio(-visual?) signal on completion.\n",
    "  * The inputs could make different beeps on press ([note frequencies](http://pages.mtu.edu/~suits/notefreqs.html))\n",
    "  * Pac-main and Tetrix are both silent gaming experiences, they could make use of some beeps and plings and buzzzzzes.\n",
    "  * The sound could make use of a simple Low Frequency Oscillator ([LFO](https://en.wikipedia.org/wiki/Low-frequency_oscillation)) add-on to the example to give it a bit more \"emotional range\".\n",
    "  "
   ]
  }
 ],
 "metadata": {
  "kernelspec": {
   "display_name": "Python 3",
   "language": "python",
   "name": "python3"
  },
  "language_info": {
   "codemirror_mode": {
    "name": "ipython",
    "version": 3
   },
   "file_extension": ".py",
   "mimetype": "text/x-python",
   "name": "python",
   "nbconvert_exporter": "python",
   "pygments_lexer": "ipython3",
   "version": "3.6.6"
  }
 },
 "nbformat": 4,
 "nbformat_minor": 2
}
