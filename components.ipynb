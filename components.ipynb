{
 "cells": [
  {
   "cell_type": "code",
   "execution_count": null,
   "metadata": {},
   "outputs": [],
   "source": [
    "# GPIO input\n",
    "\n",
    "from machine import Pin, PWM\n",
    "p = Pin(0, Pin.IN, Pin.PULL_UP)\n",
    "p.value()"
   ]
  },
  {
   "cell_type": "code",
   "execution_count": null,
   "metadata": {},
   "outputs": [],
   "source": [
    "# GPIO output\n",
    "\n",
    "pin_onboard_led = ?\n",
    "from machine import Pin, PWM\n",
    "p = Pin(pin_onboard_led, Pin.OUT, value=1)\n",
    "#p.value(0)\n",
    "#p.on()\n",
    "#p.off()"
   ]
  },
  {
   "cell_type": "code",
   "execution_count": null,
   "metadata": {},
   "outputs": [],
   "source": [
    "# touchpad\n",
    "from machine import TouchPad, Pin\n",
    "\n",
    "pad = TouchPad(Pin(12))",
    "\n",
    "pad.read()"
   ]
  },
  {
   "cell_type": "markdown",
   "metadata": {},
   "source": [
    "Thumbslide"
   ]
  },
  {
   "cell_type": "code",
   "execution_count": null,
   "metadata": {},
   "outputs": [],
   "source": [
    "# slide code\n",
    "\n",
    "from machine import Pin, ADC\n",
    "import time\n",
    "\n",
    "pinx = 39\n",
    "piny = 34\n",
    "\n",
    "x = ADC(Pin(pinx))\n",
    "x.atten(ADC.ATTN_11DB)    # set 11dB input attentuation (voltage range roughly 0.0v - 3.6v)\n",
    "x.width(ADC.WIDTH_9BIT)   # set 9 bit return values (returned range 0-511)\n",
    "y = ADC(Pin(piny))\n",
    "y.atten(ADC.ATTN_11DB)    # set 11dB input attentuation (voltage range roughly 0.0v - 3.6v)\n",
    "y.width(ADC.WIDTH_9BIT)   # set 9 bit return values (returned range 0-511)\n",
    "\n",
    "while True:\n",
    "    print(x.read(), y.read())\n",
    "    time.sleep(0.1)"
   ]
  },
  {
   "cell_type": "markdown",
   "metadata": {},
   "source": [
    "Environmental sensor BME280"
   ]
  },
  {
   "cell_type": "code",
   "execution_count": null,
   "metadata": {},
   "outputs": [],
   "source": [
    "from machine import I2C, Pin\n",
    "\n",
    "I2C_SCL = 27\n",
    "I2C_SDA = 32\n",
    "\n",
    "i2c = I2C(scl=Pin(I2C_SCL), sda=Pin(I2C_SDA))\n",
    "i2c.scan()\n",
    "\n",
    "from bme280 import BME280\n",
    "BME280_I2CADDR = 0x76 # 118\n",
    "\n",
    "bme = BME280(i2c=i2c, address=BME280_I2CADDR)\n",
    "\n",
    "(t, p, h) = bme.read_compensated_data()\n",
    "\n",
    "bme.values"
   ]
  },
  {
   "cell_type": "markdown",
   "metadata": {},
   "source": [
    "Motion sensor MPU-9250"
   ]
  },
  {
   "cell_type": "code",
   "execution_count": null,
   "metadata": {},
   "outputs": [],
   "source": [
    "from machine import I2C, Pin\n",
    "\n",
    "I2C_SCL = 27\n",
    "I2C_SDA = 32\n",
    "# 0x68, 104\n",
    "i2c = I2C(scl=Pin(I2C_SCL), sda=Pin(I2C_SDA))\n",
    "\n",
    "import mpu9250\n",
    "mpu = mpu9250.MPU9250(i2c)\n",
    "mpu.magnetic\n"
   ]
  },
  {
   "cell_type": "markdown",
   "metadata": {},
   "source": [
    "GPIO Extender MCP23017"
   ]
  },
  {
   "cell_type": "code",
   "execution_count": null,
   "metadata": {},
   "outputs": [],
   "source": [
    "import mcp\n",
    "\n",
    "I2C_SCL = 27\n",
    "I2C_SDA = 32\n",
    "\n",
    "io = mcp.MCP23017(address=0x20, gpioScl=I2C_SCL, gpioSda=I2C_SDA) # 32\n",
    "\n",
    "# controls some output pins\n",
    "'''\n",
    "outPins = list(range(10,16))\n",
    "nextVals = {}\n",
    "for pinNum in outPins:\n",
    "    io.setup(pinNum, mcp.OUT)\n",
    "    nextVals[pinNum] = True\n",
    "io.output_pins(nextVals)\n",
    "'''\n",
    "# monitors and prints some input pins\n",
    "inPins = list(range(0,16))\n",
    "for pinNum in inPins:\n",
    "    io.setup(pinNum, mcp.IN)\n",
    "    io.pullup(pinNum, True)\n",
    "while True:\n",
    "    print(io.input_pins(inPins))"
   ]
  },
  {
   "cell_type": "markdown",
   "metadata": {},
   "source": [
    "MicroSD card reader"
   ]
  },
  {
   "cell_type": "code",
   "execution_count": null,
   "metadata": {},
   "outputs": [],
   "source": [
    "from machine import Pin, SPI\n",
    "\n",
    "spi = SPI(2, 14500000, miso=Pin(19), mosi=Pin(23), sck=Pin(18))\n",
    "\n",
    "import os\n",
    "from sdcard import SDCard\n",
    "\n",
    "sd = SDCard(spi, cs=Pin(14))\n",
    "\n",
    "os.mount(sd, '/sd')\n",
    "os.listdir('/')\n",
    "\n",
    "with open('/sd/test.txt', 'w') as f:\n",
    "    f.write(\"Hello World!\")\n",
    "\n",
    "with open('/sd/test.txt', 'r') as f:\n",
    "    print(f.read())\n"
   ]
  },
  {
   "cell_type": "code",
   "execution_count": null,
   "metadata": {},
   "outputs": [],
   "source": [
    "# APA102 LEDS\n",
    "\n",
    "from machine import Pin\n",
    "\n",
    "pin_clk = 13\n",
    "pin_data = 4\n",
    "\n",
    "clk = Pin(pin_clk, Pin.OUT)\n",
    "data = Pin(pin_data, Pin.OUT)\n",
    "\n",
    "clk.value(0)\n",
    "data.value(0)\n",
    "\n",
    "def write_led(dat):\n",
    "    for i in range(32):\n",
    "        data.value(dat & 1)\n",
    "        clk.value(1)\n",
    "        clk.value(0)\n",
    "        dat = dat >> 1\n",
    "\n",
    "def write_color(r,g,b,gl):\n",
    "    data.value(1)\n",
    "    for i in range(3):\n",
    "        clk.value(1)\n",
    "        clk.value(0)\n",
    "\n",
    "    for i in range(5):\n",
    "        data.value(gl & (1 << (4-i)))\n",
    "        clk.value(1)\n",
    "        clk.value(0)\n",
    "\n",
    "    for c in [r, g, b]:\n",
    "        for i in range(8):\n",
    "            data.value(c & (1 << (7-i)))\n",
    "            clk.value(1)\n",
    "            clk.value(0)\n",
    "\n",
    "import time\n",
    "for i in range(2000):\n",
    "    write_led(0)\n",
    "    write_color(i, i+144, i+1, 10)\n",
    "    write_color(i, i, i+34, 10)\n",
    "    write_color(i+50, i, i, 10)\n",
    "    write_color(i, i+200, 0, 10)\n",
    "    write_led(~0)\n",
    "    time.sleep(0.01)\n"
   ]
  },
  {
   "cell_type": "markdown",
   "metadata": {},
   "source": [
    "Microphone\n",
    "\n",
    "- https://github.com/loboris/MicroPython_ESP32_psRAM_LoBo/wiki/adc\n",
    "- https://docs.micropython.org/en/latest/esp32/quickref.html#adc-analog-to-digital-conversion"
   ]
  },
  {
   "cell_type": "code",
   "execution_count": null,
   "metadata": {},
   "outputs": [],
   "source": [
    "from machine import Pin, ADC\n",
    "import time\n",
    "\n",
    "pin_mic = 35\n",
    "\n",
    "mic = ADC(Pin(pin_mic))\n",
    "mic.atten(ADC.ATTN_0DB)\n",
    "mic.width(ADC.WIDTH_12BIT) \n",
    "while True:\n",
    "    value = mic.read()\n",
    "    val_8bit = int(value*(256/4096))\n",
    "    dac.write(val_8bit)\n"
   ]
  },
  {
   "cell_type": "markdown",
   "metadata": {},
   "source": [
    "Speaker"
   ]
  },
  {
   "cell_type": "code",
   "execution_count": null,
   "metadata": {},
   "outputs": [],
   "source": [
    "# speaker - loboris\n",
    "\n",
    "from machine import DAC, Pin\n",
    "\n",
    "dac = DAC(26)\n",
    "sh = Pin(2, Pin.OUT, Pin.PULL_UP) # old pin=4\n",
    "sh.value(1)\n",
    "t = DAC.TRIANGLE\n",
    "f = 1000\n",
    "dac.waveform(f, type=t, scale=0)"
   ]
  },
  {
   "cell_type": "code",
   "execution_count": null,
   "metadata": {},
   "outputs": [],
   "source": [
    "# speaker - official\n",
    "from machine import DAC, Pin\n",
    "import math\n",
    "import time\n",
    "\n",
    "sh = Pin(2, Pin.OUT, Pin.PULL_UP)\n",
    "sh.value(1)\n",
    "\n",
    "dac = DAC(Pin(26))\n",
    "\n",
    "# create a buffer containing a sine-wave\n",
    "buf = bytearray(100)\n",
    "for i in range(len(buf)):\n",
    "    buf[i] = 128 + int(127 * math.sin(2 * math.pi * i / len(buf)))\n",
    "\n",
    "bl = len(buf)\n",
    "for i in range(9999999):\n",
    "    dac.write(buf[i % bl])"
   ]
  },
  {
   "cell_type": "code",
   "execution_count": null,
   "metadata": {},
   "outputs": [],
   "source": [
    "# speaker + microphone (loboris)\n",
    "from array import array\n",
    "\n",
    "data = array('B', [0]*16000)\n",
    "freq = 8000\n",
    "\n",
    "# SPEAKER\n",
    "from machine import DAC, Pin\n",
    "\n",
    "dac = DAC(26)\n",
    "sh = Pin(2, Pin.OUT, Pin.PULL_UP) # old pin=4\n",
    "sh.value(1)\n",
    "\n",
    "# Micophone\n",
    "from machine import Pin, ADC\n",
    "import time\n",
    "\n",
    "pin_mic = 35\n",
    "\n",
    "mic = ADC(Pin(pin_mic))\n",
    "mic.atten(ADC.ATTN_0DB)\n",
    "mic.width(ADC.WIDTH_12BIT) \n",
    "\n",
    "dac.stopwave()\n",
    "mic.collect(freq, readmv=False, data=data, wait=True)\n",
    "mic.stopcollect()\n",
    "\n",
    "dac.write_buffer(data, freq, mode=DAC.CIRCULAR, wait=True)"
   ]
  },
  {
   "cell_type": "markdown",
   "metadata": {},
   "source": [
    "Display"
   ]
  },
  {
   "cell_type": "code",
   "execution_count": null,
   "metadata": {},
   "outputs": [],
   "source": [
    "# display - official\n",
    "from ili934xnew import ILI9341, color565\n",
    "from machine import SPI, Pin\n",
    "\n",
    "spi = SPI(\n",
    "    2,\n",
    "    baudrate=40000000,\n",
    "    miso=Pin(19),\n",
    "    mosi=Pin(23),\n",
    "    sck=Pin(18))\n",
    "display = ILI9341(spi,\n",
    "    cs=Pin(0),\n",
    "    dc=Pin(15),\n",
    "    rst=Pin(5))\n",
    "display.erase()\n",
    "display.set_pos(0,0)\n",
    "display.width = 240\n",
    "display.height = 320\n",
    "\n",
    "display.fill_rectangle(0, 0, 239, 319, color565(255,0,0))"
   ]
  },
  {
   "cell_type": "code",
   "execution_count": null,
   "metadata": {},
   "outputs": [],
   "source": [
    "display.write(\"yo man sup dogg ok OK jeje\")"
   ]
  },
  {
   "cell_type": "code",
   "execution_count": null,
   "metadata": {},
   "outputs": [],
   "source": [
    "# loboris display\n",
    "# https://github.com/loboris/MicroPython_ESP32_psRAM_LoBo/wiki/display\n",
    "\n",
    "import machine, display, time, _thread, math\n",
    "\n",
    "tft = display.TFT()\n",
    "tft.init(tft.ILI9341, width=240, height=320, miso=19,mosi=23,clk=18,cs=0,dc=15, bgr=True)  # SR EXTERNAL\n",
    "tft.image(0,0,'cat.jpg')"
   ]
  },
  {
   "cell_type": "code",
   "execution_count": 1,
   "metadata": {},
   "outputs": [],
   "source": [
    "# Display touch i2c\n",
    "# FT6336G\n",
    "# https://github.com/focaltech-systems/drivers-input-touchscreen-FTS_driver\n",
    "address = 0x38\n",
    "\n",
    "# TODO - write a driver"
   ]
  }
 ],
 "metadata": {
  "kernelspec": {
   "display_name": "Python 3",
   "language": "python",
   "name": "python3"
  },
  "language_info": {
   "codemirror_mode": {
    "name": "ipython",
    "version": 3
   },
   "file_extension": ".py",
   "mimetype": "text/x-python",
   "name": "python",
   "nbconvert_exporter": "python",
   "pygments_lexer": "ipython3",
   "version": "3.6.7"
  }
 },
 "nbformat": 4,
 "nbformat_minor": 2
}
